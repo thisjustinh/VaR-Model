{
  "nbformat": 4,
  "nbformat_minor": 0,
  "metadata": {
    "kernelspec": {
      "display_name": "Python 3",
      "language": "python",
      "name": "python3"
    },
    "language_info": {
      "codemirror_mode": {
        "name": "ipython",
        "version": 3
      },
      "file_extension": ".py",
      "mimetype": "text/x-python",
      "name": "python",
      "nbconvert_exporter": "python",
      "pygments_lexer": "ipython3",
      "version": "3.7.4"
    },
    "colab": {
      "name": "wellness project.ipynb",
      "provenance": [],
      "include_colab_link": true
    }
  },
  "cells": [
    {
      "cell_type": "markdown",
      "metadata": {
        "id": "view-in-github",
        "colab_type": "text"
      },
      "source": [
        "<a href=\"https://colab.research.google.com/github/xinging-birds/VaR-Model/blob/master/lead-lag-trade.ipynb\" target=\"_parent\"><img src=\"https://colab.research.google.com/assets/colab-badge.svg\" alt=\"Open In Colab\"/></a>"
      ]
    },
    {
      "cell_type": "markdown",
      "metadata": {
        "id": "3wW58jpl3AjW",
        "colab_type": "text"
      },
      "source": [
        "# Wellness Project\n",
        "\n",
        "By Shannon Huang\n",
        "\n",
        "2/24/2020\n",
        "\n",
        "Project date range: 1/3/2000 - 2/21/2020\n"
      ]
    },
    {
      "cell_type": "code",
      "metadata": {
        "id": "Rffp-xPqS0qu",
        "colab_type": "code",
        "colab": {}
      },
      "source": [
        "# Wellness Project\n",
        "# by: Shannon Huang\n",
        "# 2/24/2020\n",
        "# Project date range: 1/4/2010 - 2/21/2020\n",
        "# keep in mind, PLNT US Equity & YOGA US Equity must be tested on different time pd"
      ],
      "execution_count": 0,
      "outputs": []
    },
    {
      "cell_type": "markdown",
      "metadata": {
        "id": "j6zJOIAh3Lm7",
        "colab_type": "text"
      },
      "source": [
        "## Libraries"
      ]
    },
    {
      "cell_type": "code",
      "metadata": {
        "id": "ArSt3zBQS0qy",
        "colab_type": "code",
        "colab": {}
      },
      "source": [
        "# import\n",
        "\n",
        "import pandas as pd\n",
        "import numpy as np\n",
        "import math\n",
        "import matplotlib.pyplot as plt\n",
        "import time"
      ],
      "execution_count": 0,
      "outputs": []
    },
    {
      "cell_type": "markdown",
      "metadata": {
        "id": "a-FzEh31o7DU",
        "colab_type": "text"
      },
      "source": [
        "## Import CSV\n",
        "\n",
        "Import data from `wellness data.csv` and define lead/lag equities.\n",
        "\n"
      ]
    },
    {
      "cell_type": "code",
      "metadata": {
        "id": "xVhI1ZOjS0q1",
        "colab_type": "code",
        "outputId": "bd9ff97a-03ac-4a93-aac0-c160cc3497c2",
        "colab": {
          "base_uri": "https://localhost:8080/",
          "height": 206
        }
      },
      "source": [
        "# read in data file\n",
        "\n",
        "df = pd.read_csv(\"wellness data.csv\")\n",
        "df = df.iloc[::-1]  # reverses order of dates\n",
        "df = df.reset_index(drop=True)\n",
        "df.head()"
      ],
      "execution_count": 217,
      "outputs": [
        {
          "output_type": "execute_result",
          "data": {
            "text/html": [
              "<div>\n",
              "<style scoped>\n",
              "    .dataframe tbody tr th:only-of-type {\n",
              "        vertical-align: middle;\n",
              "    }\n",
              "\n",
              "    .dataframe tbody tr th {\n",
              "        vertical-align: top;\n",
              "    }\n",
              "\n",
              "    .dataframe thead th {\n",
              "        text-align: right;\n",
              "    }\n",
              "</style>\n",
              "<table border=\"1\" class=\"dataframe\">\n",
              "  <thead>\n",
              "    <tr style=\"text-align: right;\">\n",
              "      <th></th>\n",
              "      <th>Dates</th>\n",
              "      <th>LULU US Equity</th>\n",
              "      <th>NKE US Equity</th>\n",
              "      <th>ADDDF US Equity</th>\n",
              "      <th>KR US Equity</th>\n",
              "      <th>CVS US Equity</th>\n",
              "    </tr>\n",
              "  </thead>\n",
              "  <tbody>\n",
              "    <tr>\n",
              "      <th>0</th>\n",
              "      <td>1/1/2010</td>\n",
              "      <td>15.050</td>\n",
              "      <td>14.5403</td>\n",
              "      <td>47.5966</td>\n",
              "      <td>8.5764</td>\n",
              "      <td>26.4992</td>\n",
              "    </tr>\n",
              "    <tr>\n",
              "      <th>1</th>\n",
              "      <td>1/4/2010</td>\n",
              "      <td>15.455</td>\n",
              "      <td>14.3818</td>\n",
              "      <td>47.5966</td>\n",
              "      <td>8.5555</td>\n",
              "      <td>27.1327</td>\n",
              "    </tr>\n",
              "    <tr>\n",
              "      <th>2</th>\n",
              "      <td>1/5/2010</td>\n",
              "      <td>15.915</td>\n",
              "      <td>14.4391</td>\n",
              "      <td>47.5966</td>\n",
              "      <td>8.4553</td>\n",
              "      <td>27.0257</td>\n",
              "    </tr>\n",
              "    <tr>\n",
              "      <th>3</th>\n",
              "      <td>1/6/2010</td>\n",
              "      <td>16.250</td>\n",
              "      <td>14.3510</td>\n",
              "      <td>49.0624</td>\n",
              "      <td>8.4594</td>\n",
              "      <td>26.7871</td>\n",
              "    </tr>\n",
              "    <tr>\n",
              "      <th>4</th>\n",
              "      <td>1/7/2010</td>\n",
              "      <td>16.155</td>\n",
              "      <td>14.4919</td>\n",
              "      <td>48.7175</td>\n",
              "      <td>8.5430</td>\n",
              "      <td>27.7744</td>\n",
              "    </tr>\n",
              "  </tbody>\n",
              "</table>\n",
              "</div>"
            ],
            "text/plain": [
              "      Dates  LULU US Equity  ...  KR US Equity  CVS US Equity\n",
              "0  1/1/2010          15.050  ...        8.5764        26.4992\n",
              "1  1/4/2010          15.455  ...        8.5555        27.1327\n",
              "2  1/5/2010          15.915  ...        8.4553        27.0257\n",
              "3  1/6/2010          16.250  ...        8.4594        26.7871\n",
              "4  1/7/2010          16.155  ...        8.5430        27.7744\n",
              "\n",
              "[5 rows x 6 columns]"
            ]
          },
          "metadata": {
            "tags": []
          },
          "execution_count": 217
        }
      ]
    },
    {
      "cell_type": "code",
      "metadata": {
        "id": "ULs_vYDES0q5",
        "colab_type": "code",
        "colab": {}
      },
      "source": [
        "# create lists of lead and lag equities in reference to their index in the dataframe\n",
        "lead_list = [\"LULU US Equity\", \"NKE US Equity\", \"ADDDF US Equity\"]\n",
        "lag_list = [\"KR US Equity\", \"CVS US Equity\"]"
      ],
      "execution_count": 0,
      "outputs": []
    },
    {
      "cell_type": "markdown",
      "metadata": {
        "id": "rddzAS9H3l7K",
        "colab_type": "text"
      },
      "source": [
        "## Moving Averages\n",
        "\n",
        "Calculate 20-day and 100-day moving averages and append them to the dataframe."
      ]
    },
    {
      "cell_type": "code",
      "metadata": {
        "id": "u_1PXR5AS0rB",
        "colab_type": "code",
        "colab": {}
      },
      "source": [
        "# calculate 20-day moving averages for each one\n",
        "for i in range(3):\n",
        "    df[\"20_MA_\" + str(i + 1)] = df.rolling(window=20)[lead_list[i]].mean()\n",
        "for i in range(2):\n",
        "    df[\"20_MA_\" + str(i + 7)] = df.rolling(window=20)[lag_list[i]].mean()"
      ],
      "execution_count": 0,
      "outputs": []
    },
    {
      "cell_type": "code",
      "metadata": {
        "id": "xwJxgBIKS0rE",
        "colab_type": "code",
        "outputId": "675be090-4ff2-4440-c88f-6b05bc5dab08",
        "colab": {
          "base_uri": "https://localhost:8080/",
          "height": 261
        }
      },
      "source": [
        "df.head()"
      ],
      "execution_count": 0,
      "outputs": [
        {
          "output_type": "execute_result",
          "data": {
            "text/html": [
              "<div>\n",
              "<style scoped>\n",
              "    .dataframe tbody tr th:only-of-type {\n",
              "        vertical-align: middle;\n",
              "    }\n",
              "\n",
              "    .dataframe tbody tr th {\n",
              "        vertical-align: top;\n",
              "    }\n",
              "\n",
              "    .dataframe thead th {\n",
              "        text-align: right;\n",
              "    }\n",
              "</style>\n",
              "<table border=\"1\" class=\"dataframe\">\n",
              "  <thead>\n",
              "    <tr style=\"text-align: right;\">\n",
              "      <th></th>\n",
              "      <th>Dates</th>\n",
              "      <th>LULU US Equity</th>\n",
              "      <th>NKE US Equity</th>\n",
              "      <th>ADDDF US Equity</th>\n",
              "      <th>KR US Equity</th>\n",
              "      <th>CVS US Equity</th>\n",
              "      <th>20_MA_1</th>\n",
              "      <th>20_MA_2</th>\n",
              "      <th>20_MA_3</th>\n",
              "      <th>20_MA_7</th>\n",
              "      <th>20_MA_8</th>\n",
              "    </tr>\n",
              "  </thead>\n",
              "  <tbody>\n",
              "    <tr>\n",
              "      <th>0</th>\n",
              "      <td>1/1/2010</td>\n",
              "      <td>15.050</td>\n",
              "      <td>14.5403</td>\n",
              "      <td>47.5966</td>\n",
              "      <td>8.5764</td>\n",
              "      <td>26.4992</td>\n",
              "      <td>NaN</td>\n",
              "      <td>NaN</td>\n",
              "      <td>NaN</td>\n",
              "      <td>NaN</td>\n",
              "      <td>NaN</td>\n",
              "    </tr>\n",
              "    <tr>\n",
              "      <th>1</th>\n",
              "      <td>1/4/2010</td>\n",
              "      <td>15.455</td>\n",
              "      <td>14.3818</td>\n",
              "      <td>47.5966</td>\n",
              "      <td>8.5555</td>\n",
              "      <td>27.1327</td>\n",
              "      <td>NaN</td>\n",
              "      <td>NaN</td>\n",
              "      <td>NaN</td>\n",
              "      <td>NaN</td>\n",
              "      <td>NaN</td>\n",
              "    </tr>\n",
              "    <tr>\n",
              "      <th>2</th>\n",
              "      <td>1/5/2010</td>\n",
              "      <td>15.915</td>\n",
              "      <td>14.4391</td>\n",
              "      <td>47.5966</td>\n",
              "      <td>8.4553</td>\n",
              "      <td>27.0257</td>\n",
              "      <td>NaN</td>\n",
              "      <td>NaN</td>\n",
              "      <td>NaN</td>\n",
              "      <td>NaN</td>\n",
              "      <td>NaN</td>\n",
              "    </tr>\n",
              "    <tr>\n",
              "      <th>3</th>\n",
              "      <td>1/6/2010</td>\n",
              "      <td>16.250</td>\n",
              "      <td>14.3510</td>\n",
              "      <td>49.0624</td>\n",
              "      <td>8.4594</td>\n",
              "      <td>26.7871</td>\n",
              "      <td>NaN</td>\n",
              "      <td>NaN</td>\n",
              "      <td>NaN</td>\n",
              "      <td>NaN</td>\n",
              "      <td>NaN</td>\n",
              "    </tr>\n",
              "    <tr>\n",
              "      <th>4</th>\n",
              "      <td>1/7/2010</td>\n",
              "      <td>16.155</td>\n",
              "      <td>14.4919</td>\n",
              "      <td>48.7175</td>\n",
              "      <td>8.5430</td>\n",
              "      <td>27.7744</td>\n",
              "      <td>NaN</td>\n",
              "      <td>NaN</td>\n",
              "      <td>NaN</td>\n",
              "      <td>NaN</td>\n",
              "      <td>NaN</td>\n",
              "    </tr>\n",
              "  </tbody>\n",
              "</table>\n",
              "</div>"
            ],
            "text/plain": [
              "      Dates  LULU US Equity  NKE US Equity  ...  20_MA_3  20_MA_7  20_MA_8\n",
              "0  1/1/2010          15.050        14.5403  ...      NaN      NaN      NaN\n",
              "1  1/4/2010          15.455        14.3818  ...      NaN      NaN      NaN\n",
              "2  1/5/2010          15.915        14.4391  ...      NaN      NaN      NaN\n",
              "3  1/6/2010          16.250        14.3510  ...      NaN      NaN      NaN\n",
              "4  1/7/2010          16.155        14.4919  ...      NaN      NaN      NaN\n",
              "\n",
              "[5 rows x 11 columns]"
            ]
          },
          "metadata": {
            "tags": []
          },
          "execution_count": 70
        }
      ]
    },
    {
      "cell_type": "code",
      "metadata": {
        "id": "dCPqJlJ1S0rH",
        "colab_type": "code",
        "colab": {}
      },
      "source": [
        "# calculate 100-day moving averages for each one\n",
        "for i in range(3):\n",
        "    df[\"100_MA_\" + str(i + 1)] = df.rolling(window=100)[lead_list[i]].mean()\n",
        "for i in range(2):\n",
        "    df[\"100_MA_\" + str(i + 7)] = df.rolling(window=100)[lag_list[i]].mean()"
      ],
      "execution_count": 0,
      "outputs": []
    },
    {
      "cell_type": "code",
      "metadata": {
        "id": "inrSuBJYS0rK",
        "colab_type": "code",
        "outputId": "7398fa30-55d3-4919-d47c-10f5b753d77d",
        "colab": {
          "base_uri": "https://localhost:8080/",
          "height": 261
        }
      },
      "source": [
        "df.head()"
      ],
      "execution_count": 0,
      "outputs": [
        {
          "output_type": "execute_result",
          "data": {
            "text/html": [
              "<div>\n",
              "<style scoped>\n",
              "    .dataframe tbody tr th:only-of-type {\n",
              "        vertical-align: middle;\n",
              "    }\n",
              "\n",
              "    .dataframe tbody tr th {\n",
              "        vertical-align: top;\n",
              "    }\n",
              "\n",
              "    .dataframe thead th {\n",
              "        text-align: right;\n",
              "    }\n",
              "</style>\n",
              "<table border=\"1\" class=\"dataframe\">\n",
              "  <thead>\n",
              "    <tr style=\"text-align: right;\">\n",
              "      <th></th>\n",
              "      <th>Dates</th>\n",
              "      <th>LULU US Equity</th>\n",
              "      <th>NKE US Equity</th>\n",
              "      <th>ADDDF US Equity</th>\n",
              "      <th>KR US Equity</th>\n",
              "      <th>CVS US Equity</th>\n",
              "      <th>20_MA_1</th>\n",
              "      <th>20_MA_2</th>\n",
              "      <th>20_MA_3</th>\n",
              "      <th>20_MA_7</th>\n",
              "      <th>20_MA_8</th>\n",
              "      <th>100_MA_1</th>\n",
              "      <th>100_MA_2</th>\n",
              "      <th>100_MA_3</th>\n",
              "      <th>100_MA_7</th>\n",
              "      <th>100_MA_8</th>\n",
              "    </tr>\n",
              "  </thead>\n",
              "  <tbody>\n",
              "    <tr>\n",
              "      <th>0</th>\n",
              "      <td>1/1/2010</td>\n",
              "      <td>15.050</td>\n",
              "      <td>14.5403</td>\n",
              "      <td>47.5966</td>\n",
              "      <td>8.5764</td>\n",
              "      <td>26.4992</td>\n",
              "      <td>NaN</td>\n",
              "      <td>NaN</td>\n",
              "      <td>NaN</td>\n",
              "      <td>NaN</td>\n",
              "      <td>NaN</td>\n",
              "      <td>NaN</td>\n",
              "      <td>NaN</td>\n",
              "      <td>NaN</td>\n",
              "      <td>NaN</td>\n",
              "      <td>NaN</td>\n",
              "    </tr>\n",
              "    <tr>\n",
              "      <th>1</th>\n",
              "      <td>1/4/2010</td>\n",
              "      <td>15.455</td>\n",
              "      <td>14.3818</td>\n",
              "      <td>47.5966</td>\n",
              "      <td>8.5555</td>\n",
              "      <td>27.1327</td>\n",
              "      <td>NaN</td>\n",
              "      <td>NaN</td>\n",
              "      <td>NaN</td>\n",
              "      <td>NaN</td>\n",
              "      <td>NaN</td>\n",
              "      <td>NaN</td>\n",
              "      <td>NaN</td>\n",
              "      <td>NaN</td>\n",
              "      <td>NaN</td>\n",
              "      <td>NaN</td>\n",
              "    </tr>\n",
              "    <tr>\n",
              "      <th>2</th>\n",
              "      <td>1/5/2010</td>\n",
              "      <td>15.915</td>\n",
              "      <td>14.4391</td>\n",
              "      <td>47.5966</td>\n",
              "      <td>8.4553</td>\n",
              "      <td>27.0257</td>\n",
              "      <td>NaN</td>\n",
              "      <td>NaN</td>\n",
              "      <td>NaN</td>\n",
              "      <td>NaN</td>\n",
              "      <td>NaN</td>\n",
              "      <td>NaN</td>\n",
              "      <td>NaN</td>\n",
              "      <td>NaN</td>\n",
              "      <td>NaN</td>\n",
              "      <td>NaN</td>\n",
              "    </tr>\n",
              "    <tr>\n",
              "      <th>3</th>\n",
              "      <td>1/6/2010</td>\n",
              "      <td>16.250</td>\n",
              "      <td>14.3510</td>\n",
              "      <td>49.0624</td>\n",
              "      <td>8.4594</td>\n",
              "      <td>26.7871</td>\n",
              "      <td>NaN</td>\n",
              "      <td>NaN</td>\n",
              "      <td>NaN</td>\n",
              "      <td>NaN</td>\n",
              "      <td>NaN</td>\n",
              "      <td>NaN</td>\n",
              "      <td>NaN</td>\n",
              "      <td>NaN</td>\n",
              "      <td>NaN</td>\n",
              "      <td>NaN</td>\n",
              "    </tr>\n",
              "    <tr>\n",
              "      <th>4</th>\n",
              "      <td>1/7/2010</td>\n",
              "      <td>16.155</td>\n",
              "      <td>14.4919</td>\n",
              "      <td>48.7175</td>\n",
              "      <td>8.5430</td>\n",
              "      <td>27.7744</td>\n",
              "      <td>NaN</td>\n",
              "      <td>NaN</td>\n",
              "      <td>NaN</td>\n",
              "      <td>NaN</td>\n",
              "      <td>NaN</td>\n",
              "      <td>NaN</td>\n",
              "      <td>NaN</td>\n",
              "      <td>NaN</td>\n",
              "      <td>NaN</td>\n",
              "      <td>NaN</td>\n",
              "    </tr>\n",
              "  </tbody>\n",
              "</table>\n",
              "</div>"
            ],
            "text/plain": [
              "      Dates  LULU US Equity  NKE US Equity  ...  100_MA_3  100_MA_7  100_MA_8\n",
              "0  1/1/2010          15.050        14.5403  ...       NaN       NaN       NaN\n",
              "1  1/4/2010          15.455        14.3818  ...       NaN       NaN       NaN\n",
              "2  1/5/2010          15.915        14.4391  ...       NaN       NaN       NaN\n",
              "3  1/6/2010          16.250        14.3510  ...       NaN       NaN       NaN\n",
              "4  1/7/2010          16.155        14.4919  ...       NaN       NaN       NaN\n",
              "\n",
              "[5 rows x 16 columns]"
            ]
          },
          "metadata": {
            "tags": []
          },
          "execution_count": 72
        }
      ]
    },
    {
      "cell_type": "code",
      "metadata": {
        "id": "HTAsh0koS0rN",
        "colab_type": "code",
        "outputId": "12a74512-ad9a-4180-ea8d-7f98b067ea4f",
        "colab": {
          "base_uri": "https://localhost:8080/",
          "height": 339
        }
      },
      "source": [
        "df[[\"20_MA_1\",\"100_MA_1\"]].plot(grid=True,figsize=(8,5))"
      ],
      "execution_count": 0,
      "outputs": [
        {
          "output_type": "execute_result",
          "data": {
            "text/plain": [
              "<matplotlib.axes._subplots.AxesSubplot at 0x7f750c40d978>"
            ]
          },
          "metadata": {
            "tags": []
          },
          "execution_count": 73
        },
        {
          "output_type": "display_data",
          "data": {
            "image/png": "[encoded data removed]",
            "text/plain": [
              "<Figure size 576x360 with 1 Axes>"
            ]
          },
          "metadata": {
            "tags": []
          }
        }
      ]
    },
    {
      "cell_type": "markdown",
      "metadata": {
        "id": "szyj6LW_3tIw",
        "colab_type": "text"
      },
      "source": [
        "## Data Split\n",
        "\n",
        "Split data into in-sample and out-of-sample data. Split is created using pandas's `sample` function, to randomly sample 50% of rows into `df1` and the rest into `df2`."
      ]
    },
    {
      "cell_type": "code",
      "metadata": {
        "id": "rMXtmLFdFjkB",
        "colab_type": "code",
        "colab": {}
      },
      "source": [
        "np.random.seed()"
      ],
      "execution_count": 0,
      "outputs": []
    },
    {
      "cell_type": "code",
      "metadata": {
        "id": "2tJHannbS0rR",
        "colab_type": "code",
        "outputId": "02e50b21-6384-48a8-fc0f-3190aa5d1fc8",
        "colab": {
          "base_uri": "https://localhost:8080/",
          "height": 479
        }
      },
      "source": [
        "# divide data into in-sample (df1) and out-of-sample (df2)\n",
        "# len(df)/2 = 2646/2 = 1323\n",
        "# df1 = df.copy()[0:1323]\n",
        "\n",
        "df1 = df.sample(frac=0.5, random_state=2000).sort_index()\n",
        "df2 = df.drop(df1.index)\n",
        "df1.reset_index(drop=True, inplace=True)\n",
        "df2.reset_index(drop=True, inplace=True)\n",
        "df1"
      ],
      "execution_count": 246,
      "outputs": [
        {
          "output_type": "execute_result",
          "data": {
            "text/html": [
              "<div>\n",
              "<style scoped>\n",
              "    .dataframe tbody tr th:only-of-type {\n",
              "        vertical-align: middle;\n",
              "    }\n",
              "\n",
              "    .dataframe tbody tr th {\n",
              "        vertical-align: top;\n",
              "    }\n",
              "\n",
              "    .dataframe thead th {\n",
              "        text-align: right;\n",
              "    }\n",
              "</style>\n",
              "<table border=\"1\" class=\"dataframe\">\n",
              "  <thead>\n",
              "    <tr style=\"text-align: right;\">\n",
              "      <th></th>\n",
              "      <th>Dates</th>\n",
              "      <th>LULU US Equity</th>\n",
              "      <th>NKE US Equity</th>\n",
              "      <th>ADDDF US Equity</th>\n",
              "      <th>KR US Equity</th>\n",
              "      <th>CVS US Equity</th>\n",
              "      <th>20_MA_1</th>\n",
              "      <th>20_MA_2</th>\n",
              "      <th>20_MA_3</th>\n",
              "      <th>20_MA_7</th>\n",
              "      <th>20_MA_8</th>\n",
              "      <th>100_MA_1</th>\n",
              "      <th>100_MA_2</th>\n",
              "      <th>100_MA_3</th>\n",
              "      <th>100_MA_7</th>\n",
              "      <th>100_MA_8</th>\n",
              "    </tr>\n",
              "  </thead>\n",
              "  <tbody>\n",
              "    <tr>\n",
              "      <th>0</th>\n",
              "      <td>1/1/2010</td>\n",
              "      <td>15.050</td>\n",
              "      <td>14.5403</td>\n",
              "      <td>47.5966</td>\n",
              "      <td>8.5764</td>\n",
              "      <td>26.4992</td>\n",
              "      <td>NaN</td>\n",
              "      <td>NaN</td>\n",
              "      <td>NaN</td>\n",
              "      <td>NaN</td>\n",
              "      <td>NaN</td>\n",
              "      <td>NaN</td>\n",
              "      <td>NaN</td>\n",
              "      <td>NaN</td>\n",
              "      <td>NaN</td>\n",
              "      <td>NaN</td>\n",
              "    </tr>\n",
              "    <tr>\n",
              "      <th>1</th>\n",
              "      <td>1/5/2010</td>\n",
              "      <td>15.915</td>\n",
              "      <td>14.4391</td>\n",
              "      <td>47.5966</td>\n",
              "      <td>8.4553</td>\n",
              "      <td>27.0257</td>\n",
              "      <td>NaN</td>\n",
              "      <td>NaN</td>\n",
              "      <td>NaN</td>\n",
              "      <td>NaN</td>\n",
              "      <td>NaN</td>\n",
              "      <td>NaN</td>\n",
              "      <td>NaN</td>\n",
              "      <td>NaN</td>\n",
              "      <td>NaN</td>\n",
              "      <td>NaN</td>\n",
              "    </tr>\n",
              "    <tr>\n",
              "      <th>2</th>\n",
              "      <td>1/8/2010</td>\n",
              "      <td>16.135</td>\n",
              "      <td>14.4633</td>\n",
              "      <td>48.7175</td>\n",
              "      <td>8.4636</td>\n",
              "      <td>27.9718</td>\n",
              "      <td>NaN</td>\n",
              "      <td>NaN</td>\n",
              "      <td>NaN</td>\n",
              "      <td>NaN</td>\n",
              "      <td>NaN</td>\n",
              "      <td>NaN</td>\n",
              "      <td>NaN</td>\n",
              "      <td>NaN</td>\n",
              "      <td>NaN</td>\n",
              "      <td>NaN</td>\n",
              "    </tr>\n",
              "    <tr>\n",
              "      <th>3</th>\n",
              "      <td>1/19/2010</td>\n",
              "      <td>15.835</td>\n",
              "      <td>14.2410</td>\n",
              "      <td>47.7690</td>\n",
              "      <td>8.8104</td>\n",
              "      <td>27.9307</td>\n",
              "      <td>NaN</td>\n",
              "      <td>NaN</td>\n",
              "      <td>NaN</td>\n",
              "      <td>NaN</td>\n",
              "      <td>NaN</td>\n",
              "      <td>NaN</td>\n",
              "      <td>NaN</td>\n",
              "      <td>NaN</td>\n",
              "      <td>NaN</td>\n",
              "      <td>NaN</td>\n",
              "    </tr>\n",
              "    <tr>\n",
              "      <th>4</th>\n",
              "      <td>1/21/2010</td>\n",
              "      <td>15.745</td>\n",
              "      <td>14.0055</td>\n",
              "      <td>47.7690</td>\n",
              "      <td>8.9900</td>\n",
              "      <td>27.4172</td>\n",
              "      <td>NaN</td>\n",
              "      <td>NaN</td>\n",
              "      <td>NaN</td>\n",
              "      <td>NaN</td>\n",
              "      <td>NaN</td>\n",
              "      <td>NaN</td>\n",
              "      <td>NaN</td>\n",
              "      <td>NaN</td>\n",
              "      <td>NaN</td>\n",
              "      <td>NaN</td>\n",
              "    </tr>\n",
              "    <tr>\n",
              "      <th>...</th>\n",
              "      <td>...</td>\n",
              "      <td>...</td>\n",
              "      <td>...</td>\n",
              "      <td>...</td>\n",
              "      <td>...</td>\n",
              "      <td>...</td>\n",
              "      <td>...</td>\n",
              "      <td>...</td>\n",
              "      <td>...</td>\n",
              "      <td>...</td>\n",
              "      <td>...</td>\n",
              "      <td>...</td>\n",
              "      <td>...</td>\n",
              "      <td>...</td>\n",
              "      <td>...</td>\n",
              "      <td>...</td>\n",
              "    </tr>\n",
              "    <tr>\n",
              "      <th>1318</th>\n",
              "      <td>2/3/2020</td>\n",
              "      <td>246.370</td>\n",
              "      <td>99.2700</td>\n",
              "      <td>314.2500</td>\n",
              "      <td>26.8295</td>\n",
              "      <td>66.9300</td>\n",
              "      <td>240.9935</td>\n",
              "      <td>101.7190</td>\n",
              "      <td>338.888540</td>\n",
              "      <td>27.975610</td>\n",
              "      <td>72.352585</td>\n",
              "      <td>217.8133</td>\n",
              "      <td>95.509195</td>\n",
              "      <td>315.118375</td>\n",
              "      <td>26.663012</td>\n",
              "      <td>69.669213</td>\n",
              "    </tr>\n",
              "    <tr>\n",
              "      <th>1319</th>\n",
              "      <td>2/17/2020</td>\n",
              "      <td>254.410</td>\n",
              "      <td>103.5400</td>\n",
              "      <td>314.9000</td>\n",
              "      <td>28.2300</td>\n",
              "      <td>71.3700</td>\n",
              "      <td>245.7715</td>\n",
              "      <td>101.1745</td>\n",
              "      <td>324.655595</td>\n",
              "      <td>27.904875</td>\n",
              "      <td>71.363500</td>\n",
              "      <td>223.4767</td>\n",
              "      <td>96.742364</td>\n",
              "      <td>316.675845</td>\n",
              "      <td>26.930182</td>\n",
              "      <td>70.619792</td>\n",
              "    </tr>\n",
              "    <tr>\n",
              "      <th>1320</th>\n",
              "      <td>2/18/2020</td>\n",
              "      <td>259.230</td>\n",
              "      <td>102.0000</td>\n",
              "      <td>306.2600</td>\n",
              "      <td>29.7100</td>\n",
              "      <td>72.0000</td>\n",
              "      <td>246.6070</td>\n",
              "      <td>101.0455</td>\n",
              "      <td>322.786095</td>\n",
              "      <td>27.977795</td>\n",
              "      <td>71.259000</td>\n",
              "      <td>224.1421</td>\n",
              "      <td>96.841966</td>\n",
              "      <td>316.672845</td>\n",
              "      <td>26.974314</td>\n",
              "      <td>70.725124</td>\n",
              "    </tr>\n",
              "    <tr>\n",
              "      <th>1321</th>\n",
              "      <td>2/19/2020</td>\n",
              "      <td>262.510</td>\n",
              "      <td>102.4600</td>\n",
              "      <td>316.0500</td>\n",
              "      <td>29.5400</td>\n",
              "      <td>71.7800</td>\n",
              "      <td>247.5175</td>\n",
              "      <td>100.9440</td>\n",
              "      <td>321.183595</td>\n",
              "      <td>28.044205</td>\n",
              "      <td>71.147500</td>\n",
              "      <td>224.8759</td>\n",
              "      <td>96.954047</td>\n",
              "      <td>316.876045</td>\n",
              "      <td>27.022084</td>\n",
              "      <td>70.836635</td>\n",
              "    </tr>\n",
              "    <tr>\n",
              "      <th>1322</th>\n",
              "      <td>2/21/2020</td>\n",
              "      <td>255.900</td>\n",
              "      <td>100.2500</td>\n",
              "      <td>304.9053</td>\n",
              "      <td>30.3100</td>\n",
              "      <td>71.5100</td>\n",
              "      <td>249.3260</td>\n",
              "      <td>100.8305</td>\n",
              "      <td>317.695860</td>\n",
              "      <td>28.232995</td>\n",
              "      <td>71.072000</td>\n",
              "      <td>226.2390</td>\n",
              "      <td>97.133769</td>\n",
              "      <td>317.105498</td>\n",
              "      <td>27.134841</td>\n",
              "      <td>71.054023</td>\n",
              "    </tr>\n",
              "  </tbody>\n",
              "</table>\n",
              "<p>1323 rows × 16 columns</p>\n",
              "</div>"
            ],
            "text/plain": [
              "          Dates  LULU US Equity  ...   100_MA_7   100_MA_8\n",
              "0      1/1/2010          15.050  ...        NaN        NaN\n",
              "1      1/5/2010          15.915  ...        NaN        NaN\n",
              "2      1/8/2010          16.135  ...        NaN        NaN\n",
              "3     1/19/2010          15.835  ...        NaN        NaN\n",
              "4     1/21/2010          15.745  ...        NaN        NaN\n",
              "...         ...             ...  ...        ...        ...\n",
              "1318   2/3/2020         246.370  ...  26.663012  69.669213\n",
              "1319  2/17/2020         254.410  ...  26.930182  70.619792\n",
              "1320  2/18/2020         259.230  ...  26.974314  70.725124\n",
              "1321  2/19/2020         262.510  ...  27.022084  70.836635\n",
              "1322  2/21/2020         255.900  ...  27.134841  71.054023\n",
              "\n",
              "[1323 rows x 16 columns]"
            ]
          },
          "metadata": {
            "tags": []
          },
          "execution_count": 246
        }
      ]
    },
    {
      "cell_type": "code",
      "metadata": {
        "id": "EeBlU0aNS0rT",
        "colab_type": "code",
        "outputId": "efe1101c-5c18-4399-d893-f7729a2f2ff4",
        "colab": {
          "base_uri": "https://localhost:8080/",
          "height": 479
        }
      },
      "source": [
        "# df2 = df.copy()[-1323:-1]\n",
        "df2"
      ],
      "execution_count": 247,
      "outputs": [
        {
          "output_type": "execute_result",
          "data": {
            "text/html": [
              "<div>\n",
              "<style scoped>\n",
              "    .dataframe tbody tr th:only-of-type {\n",
              "        vertical-align: middle;\n",
              "    }\n",
              "\n",
              "    .dataframe tbody tr th {\n",
              "        vertical-align: top;\n",
              "    }\n",
              "\n",
              "    .dataframe thead th {\n",
              "        text-align: right;\n",
              "    }\n",
              "</style>\n",
              "<table border=\"1\" class=\"dataframe\">\n",
              "  <thead>\n",
              "    <tr style=\"text-align: right;\">\n",
              "      <th></th>\n",
              "      <th>Dates</th>\n",
              "      <th>LULU US Equity</th>\n",
              "      <th>NKE US Equity</th>\n",
              "      <th>ADDDF US Equity</th>\n",
              "      <th>KR US Equity</th>\n",
              "      <th>CVS US Equity</th>\n",
              "      <th>20_MA_1</th>\n",
              "      <th>20_MA_2</th>\n",
              "      <th>20_MA_3</th>\n",
              "      <th>20_MA_7</th>\n",
              "      <th>20_MA_8</th>\n",
              "      <th>100_MA_1</th>\n",
              "      <th>100_MA_2</th>\n",
              "      <th>100_MA_3</th>\n",
              "      <th>100_MA_7</th>\n",
              "      <th>100_MA_8</th>\n",
              "    </tr>\n",
              "  </thead>\n",
              "  <tbody>\n",
              "    <tr>\n",
              "      <th>0</th>\n",
              "      <td>1/4/2010</td>\n",
              "      <td>15.455</td>\n",
              "      <td>14.3818</td>\n",
              "      <td>47.5966</td>\n",
              "      <td>8.5555</td>\n",
              "      <td>27.1327</td>\n",
              "      <td>NaN</td>\n",
              "      <td>NaN</td>\n",
              "      <td>NaN</td>\n",
              "      <td>NaN</td>\n",
              "      <td>NaN</td>\n",
              "      <td>NaN</td>\n",
              "      <td>NaN</td>\n",
              "      <td>NaN</td>\n",
              "      <td>NaN</td>\n",
              "      <td>NaN</td>\n",
              "    </tr>\n",
              "    <tr>\n",
              "      <th>1</th>\n",
              "      <td>1/6/2010</td>\n",
              "      <td>16.250</td>\n",
              "      <td>14.3510</td>\n",
              "      <td>49.0624</td>\n",
              "      <td>8.4594</td>\n",
              "      <td>26.7871</td>\n",
              "      <td>NaN</td>\n",
              "      <td>NaN</td>\n",
              "      <td>NaN</td>\n",
              "      <td>NaN</td>\n",
              "      <td>NaN</td>\n",
              "      <td>NaN</td>\n",
              "      <td>NaN</td>\n",
              "      <td>NaN</td>\n",
              "      <td>NaN</td>\n",
              "      <td>NaN</td>\n",
              "    </tr>\n",
              "    <tr>\n",
              "      <th>2</th>\n",
              "      <td>1/7/2010</td>\n",
              "      <td>16.155</td>\n",
              "      <td>14.4919</td>\n",
              "      <td>48.7175</td>\n",
              "      <td>8.5430</td>\n",
              "      <td>27.7744</td>\n",
              "      <td>NaN</td>\n",
              "      <td>NaN</td>\n",
              "      <td>NaN</td>\n",
              "      <td>NaN</td>\n",
              "      <td>NaN</td>\n",
              "      <td>NaN</td>\n",
              "      <td>NaN</td>\n",
              "      <td>NaN</td>\n",
              "      <td>NaN</td>\n",
              "      <td>NaN</td>\n",
              "    </tr>\n",
              "    <tr>\n",
              "      <th>3</th>\n",
              "      <td>1/11/2010</td>\n",
              "      <td>15.905</td>\n",
              "      <td>14.2850</td>\n",
              "      <td>49.8816</td>\n",
              "      <td>8.4970</td>\n",
              "      <td>27.9142</td>\n",
              "      <td>NaN</td>\n",
              "      <td>NaN</td>\n",
              "      <td>NaN</td>\n",
              "      <td>NaN</td>\n",
              "      <td>NaN</td>\n",
              "      <td>NaN</td>\n",
              "      <td>NaN</td>\n",
              "      <td>NaN</td>\n",
              "      <td>NaN</td>\n",
              "      <td>NaN</td>\n",
              "    </tr>\n",
              "    <tr>\n",
              "      <th>4</th>\n",
              "      <td>1/12/2010</td>\n",
              "      <td>15.675</td>\n",
              "      <td>14.2652</td>\n",
              "      <td>48.6313</td>\n",
              "      <td>8.6516</td>\n",
              "      <td>27.6098</td>\n",
              "      <td>NaN</td>\n",
              "      <td>NaN</td>\n",
              "      <td>NaN</td>\n",
              "      <td>NaN</td>\n",
              "      <td>NaN</td>\n",
              "      <td>NaN</td>\n",
              "      <td>NaN</td>\n",
              "      <td>NaN</td>\n",
              "      <td>NaN</td>\n",
              "      <td>NaN</td>\n",
              "    </tr>\n",
              "    <tr>\n",
              "      <th>...</th>\n",
              "      <td>...</td>\n",
              "      <td>...</td>\n",
              "      <td>...</td>\n",
              "      <td>...</td>\n",
              "      <td>...</td>\n",
              "      <td>...</td>\n",
              "      <td>...</td>\n",
              "      <td>...</td>\n",
              "      <td>...</td>\n",
              "      <td>...</td>\n",
              "      <td>...</td>\n",
              "      <td>...</td>\n",
              "      <td>...</td>\n",
              "      <td>...</td>\n",
              "      <td>...</td>\n",
              "      <td>...</td>\n",
              "    </tr>\n",
              "    <tr>\n",
              "      <th>1318</th>\n",
              "      <td>2/11/2020</td>\n",
              "      <td>251.580</td>\n",
              "      <td>100.0200</td>\n",
              "      <td>314.4000</td>\n",
              "      <td>28.2814</td>\n",
              "      <td>73.8500</td>\n",
              "      <td>243.4255</td>\n",
              "      <td>101.2630</td>\n",
              "      <td>332.159340</td>\n",
              "      <td>27.825955</td>\n",
              "      <td>72.00532</td>\n",
              "      <td>220.9786</td>\n",
              "      <td>96.290356</td>\n",
              "      <td>316.231495</td>\n",
              "      <td>26.812873</td>\n",
              "      <td>70.192874</td>\n",
              "    </tr>\n",
              "    <tr>\n",
              "      <th>1319</th>\n",
              "      <td>2/12/2020</td>\n",
              "      <td>253.940</td>\n",
              "      <td>103.0000</td>\n",
              "      <td>318.0000</td>\n",
              "      <td>28.5300</td>\n",
              "      <td>73.7500</td>\n",
              "      <td>243.9480</td>\n",
              "      <td>101.2735</td>\n",
              "      <td>330.209345</td>\n",
              "      <td>27.845845</td>\n",
              "      <td>71.95455</td>\n",
              "      <td>221.5878</td>\n",
              "      <td>96.414619</td>\n",
              "      <td>316.431545</td>\n",
              "      <td>26.843425</td>\n",
              "      <td>70.313340</td>\n",
              "    </tr>\n",
              "    <tr>\n",
              "      <th>1320</th>\n",
              "      <td>2/13/2020</td>\n",
              "      <td>253.860</td>\n",
              "      <td>103.3700</td>\n",
              "      <td>310.6250</td>\n",
              "      <td>28.6300</td>\n",
              "      <td>72.0000</td>\n",
              "      <td>244.4555</td>\n",
              "      <td>101.2735</td>\n",
              "      <td>328.065595</td>\n",
              "      <td>27.881175</td>\n",
              "      <td>71.77754</td>\n",
              "      <td>222.2110</td>\n",
              "      <td>96.529018</td>\n",
              "      <td>316.557845</td>\n",
              "      <td>26.874879</td>\n",
              "      <td>70.426164</td>\n",
              "    </tr>\n",
              "    <tr>\n",
              "      <th>1321</th>\n",
              "      <td>2/14/2020</td>\n",
              "      <td>254.410</td>\n",
              "      <td>103.5400</td>\n",
              "      <td>314.9000</td>\n",
              "      <td>28.2300</td>\n",
              "      <td>71.3700</td>\n",
              "      <td>245.1135</td>\n",
              "      <td>101.2240</td>\n",
              "      <td>326.360595</td>\n",
              "      <td>27.893025</td>\n",
              "      <td>71.57052</td>\n",
              "      <td>222.8579</td>\n",
              "      <td>96.643720</td>\n",
              "      <td>316.621845</td>\n",
              "      <td>26.902728</td>\n",
              "      <td>70.527858</td>\n",
              "    </tr>\n",
              "    <tr>\n",
              "      <th>1322</th>\n",
              "      <td>2/20/2020</td>\n",
              "      <td>263.680</td>\n",
              "      <td>102.5300</td>\n",
              "      <td>309.5000</td>\n",
              "      <td>29.7800</td>\n",
              "      <td>71.9400</td>\n",
              "      <td>248.5485</td>\n",
              "      <td>100.9195</td>\n",
              "      <td>319.606095</td>\n",
              "      <td>28.119135</td>\n",
              "      <td>71.06800</td>\n",
              "      <td>225.6112</td>\n",
              "      <td>97.059547</td>\n",
              "      <td>317.013745</td>\n",
              "      <td>27.076801</td>\n",
              "      <td>70.952507</td>\n",
              "    </tr>\n",
              "  </tbody>\n",
              "</table>\n",
              "<p>1323 rows × 16 columns</p>\n",
              "</div>"
            ],
            "text/plain": [
              "          Dates  LULU US Equity  ...   100_MA_7   100_MA_8\n",
              "0      1/4/2010          15.455  ...        NaN        NaN\n",
              "1      1/6/2010          16.250  ...        NaN        NaN\n",
              "2      1/7/2010          16.155  ...        NaN        NaN\n",
              "3     1/11/2010          15.905  ...        NaN        NaN\n",
              "4     1/12/2010          15.675  ...        NaN        NaN\n",
              "...         ...             ...  ...        ...        ...\n",
              "1318  2/11/2020         251.580  ...  26.812873  70.192874\n",
              "1319  2/12/2020         253.940  ...  26.843425  70.313340\n",
              "1320  2/13/2020         253.860  ...  26.874879  70.426164\n",
              "1321  2/14/2020         254.410  ...  26.902728  70.527858\n",
              "1322  2/20/2020         263.680  ...  27.076801  70.952507\n",
              "\n",
              "[1323 rows x 16 columns]"
            ]
          },
          "metadata": {
            "tags": []
          },
          "execution_count": 247
        }
      ]
    },
    {
      "cell_type": "code",
      "metadata": {
        "id": "OkpcTPs5S0rV",
        "colab_type": "code",
        "outputId": "41cf1e1f-285b-4933-c763-07bd55830546",
        "colab": {
          "base_uri": "https://localhost:8080/",
          "height": 339
        }
      },
      "source": [
        "df1[[\"20_MA_8\",\"100_MA_8\"]].plot(grid=True,figsize=(8,5))"
      ],
      "execution_count": 210,
      "outputs": [
        {
          "output_type": "execute_result",
          "data": {
            "text/plain": [
              "<matplotlib.axes._subplots.AxesSubplot at 0x7f750efcab70>"
            ]
          },
          "metadata": {
            "tags": []
          },
          "execution_count": 210
        },
        {
          "output_type": "display_data",
          "data": {
            "image/png": "[encoded data removed]",
            "text/plain": [
              "<Figure size 576x360 with 1 Axes>"
            ]
          },
          "metadata": {
            "tags": []
          }
        }
      ]
    },
    {
      "cell_type": "markdown",
      "metadata": {
        "id": "g5fV4rw53-La",
        "colab_type": "text"
      },
      "source": [
        "## Calculating Lead-Lag Returns\n",
        "\n",
        "First, we create columns that indicate where crossovers occur&mdash;`True` if it occurs, `False` otherwise&mdash;and apply the transformation to `df2`."
      ]
    },
    {
      "cell_type": "code",
      "metadata": {
        "id": "KtLfzy8NS0rY",
        "colab_type": "code",
        "outputId": "a07edcba-de87-47ed-ca51-6f729f8ad48c",
        "colab": {
          "base_uri": "https://localhost:8080/",
          "height": 261
        }
      },
      "source": [
        "def crossover(frame, stock_num):\n",
        "  frame[\"position\" + str(stock_num)] = frame[\"20_MA_\" + str(stock_num)] > frame[\"100_MA_\" + str(stock_num)]\n",
        "  frame[\"pre_position\" + str(stock_num)] = frame[\"position\" + str(stock_num)].shift(1)\n",
        "  frame.dropna(inplace=True) # dropping the NaN values\n",
        "  frame[\"crossover\" + str(stock_num)] = np.where(frame[\"position\" + str(stock_num)] == frame[\"pre_position\" + str(stock_num)], False, True)\n",
        "  del frame[\"position\" + str(stock_num)]\n",
        "  del frame[\"pre_position\" + str(stock_num)]\n",
        "\n",
        "for i in range(len(lead_list)):\n",
        "  crossover(df2, i + 1)\n",
        "df2.tail()"
      ],
      "execution_count": 248,
      "outputs": [
        {
          "output_type": "execute_result",
          "data": {
            "text/html": [
              "<div>\n",
              "<style scoped>\n",
              "    .dataframe tbody tr th:only-of-type {\n",
              "        vertical-align: middle;\n",
              "    }\n",
              "\n",
              "    .dataframe tbody tr th {\n",
              "        vertical-align: top;\n",
              "    }\n",
              "\n",
              "    .dataframe thead th {\n",
              "        text-align: right;\n",
              "    }\n",
              "</style>\n",
              "<table border=\"1\" class=\"dataframe\">\n",
              "  <thead>\n",
              "    <tr style=\"text-align: right;\">\n",
              "      <th></th>\n",
              "      <th>Dates</th>\n",
              "      <th>LULU US Equity</th>\n",
              "      <th>NKE US Equity</th>\n",
              "      <th>ADDDF US Equity</th>\n",
              "      <th>KR US Equity</th>\n",
              "      <th>CVS US Equity</th>\n",
              "      <th>20_MA_1</th>\n",
              "      <th>20_MA_2</th>\n",
              "      <th>20_MA_3</th>\n",
              "      <th>20_MA_7</th>\n",
              "      <th>20_MA_8</th>\n",
              "      <th>100_MA_1</th>\n",
              "      <th>100_MA_2</th>\n",
              "      <th>100_MA_3</th>\n",
              "      <th>100_MA_7</th>\n",
              "      <th>100_MA_8</th>\n",
              "      <th>crossover1</th>\n",
              "      <th>crossover2</th>\n",
              "      <th>crossover3</th>\n",
              "    </tr>\n",
              "  </thead>\n",
              "  <tbody>\n",
              "    <tr>\n",
              "      <th>1318</th>\n",
              "      <td>2/11/2020</td>\n",
              "      <td>251.58</td>\n",
              "      <td>100.02</td>\n",
              "      <td>314.400</td>\n",
              "      <td>28.2814</td>\n",
              "      <td>73.85</td>\n",
              "      <td>243.4255</td>\n",
              "      <td>101.2630</td>\n",
              "      <td>332.159340</td>\n",
              "      <td>27.825955</td>\n",
              "      <td>72.00532</td>\n",
              "      <td>220.9786</td>\n",
              "      <td>96.290356</td>\n",
              "      <td>316.231495</td>\n",
              "      <td>26.812873</td>\n",
              "      <td>70.192874</td>\n",
              "      <td>False</td>\n",
              "      <td>False</td>\n",
              "      <td>False</td>\n",
              "    </tr>\n",
              "    <tr>\n",
              "      <th>1319</th>\n",
              "      <td>2/12/2020</td>\n",
              "      <td>253.94</td>\n",
              "      <td>103.00</td>\n",
              "      <td>318.000</td>\n",
              "      <td>28.5300</td>\n",
              "      <td>73.75</td>\n",
              "      <td>243.9480</td>\n",
              "      <td>101.2735</td>\n",
              "      <td>330.209345</td>\n",
              "      <td>27.845845</td>\n",
              "      <td>71.95455</td>\n",
              "      <td>221.5878</td>\n",
              "      <td>96.414619</td>\n",
              "      <td>316.431545</td>\n",
              "      <td>26.843425</td>\n",
              "      <td>70.313340</td>\n",
              "      <td>False</td>\n",
              "      <td>False</td>\n",
              "      <td>False</td>\n",
              "    </tr>\n",
              "    <tr>\n",
              "      <th>1320</th>\n",
              "      <td>2/13/2020</td>\n",
              "      <td>253.86</td>\n",
              "      <td>103.37</td>\n",
              "      <td>310.625</td>\n",
              "      <td>28.6300</td>\n",
              "      <td>72.00</td>\n",
              "      <td>244.4555</td>\n",
              "      <td>101.2735</td>\n",
              "      <td>328.065595</td>\n",
              "      <td>27.881175</td>\n",
              "      <td>71.77754</td>\n",
              "      <td>222.2110</td>\n",
              "      <td>96.529018</td>\n",
              "      <td>316.557845</td>\n",
              "      <td>26.874879</td>\n",
              "      <td>70.426164</td>\n",
              "      <td>False</td>\n",
              "      <td>False</td>\n",
              "      <td>False</td>\n",
              "    </tr>\n",
              "    <tr>\n",
              "      <th>1321</th>\n",
              "      <td>2/14/2020</td>\n",
              "      <td>254.41</td>\n",
              "      <td>103.54</td>\n",
              "      <td>314.900</td>\n",
              "      <td>28.2300</td>\n",
              "      <td>71.37</td>\n",
              "      <td>245.1135</td>\n",
              "      <td>101.2240</td>\n",
              "      <td>326.360595</td>\n",
              "      <td>27.893025</td>\n",
              "      <td>71.57052</td>\n",
              "      <td>222.8579</td>\n",
              "      <td>96.643720</td>\n",
              "      <td>316.621845</td>\n",
              "      <td>26.902728</td>\n",
              "      <td>70.527858</td>\n",
              "      <td>False</td>\n",
              "      <td>False</td>\n",
              "      <td>False</td>\n",
              "    </tr>\n",
              "    <tr>\n",
              "      <th>1322</th>\n",
              "      <td>2/20/2020</td>\n",
              "      <td>263.68</td>\n",
              "      <td>102.53</td>\n",
              "      <td>309.500</td>\n",
              "      <td>29.7800</td>\n",
              "      <td>71.94</td>\n",
              "      <td>248.5485</td>\n",
              "      <td>100.9195</td>\n",
              "      <td>319.606095</td>\n",
              "      <td>28.119135</td>\n",
              "      <td>71.06800</td>\n",
              "      <td>225.6112</td>\n",
              "      <td>97.059547</td>\n",
              "      <td>317.013745</td>\n",
              "      <td>27.076801</td>\n",
              "      <td>70.952507</td>\n",
              "      <td>False</td>\n",
              "      <td>False</td>\n",
              "      <td>False</td>\n",
              "    </tr>\n",
              "  </tbody>\n",
              "</table>\n",
              "</div>"
            ],
            "text/plain": [
              "          Dates  LULU US Equity  ...  crossover2  crossover3\n",
              "1318  2/11/2020          251.58  ...       False       False\n",
              "1319  2/12/2020          253.94  ...       False       False\n",
              "1320  2/13/2020          253.86  ...       False       False\n",
              "1321  2/14/2020          254.41  ...       False       False\n",
              "1322  2/20/2020          263.68  ...       False       False\n",
              "\n",
              "[5 rows x 19 columns]"
            ]
          },
          "metadata": {
            "tags": []
          },
          "execution_count": 248
        }
      ]
    },
    {
      "cell_type": "code",
      "metadata": {
        "id": "WYHoLn0ZsK3t",
        "colab_type": "code",
        "colab": {}
      },
      "source": [
        "[df2.index[df2['crossover' + str(i)]].tolist() for i in range(1, 4)]"
      ],
      "execution_count": 0,
      "outputs": []
    },
    {
      "cell_type": "markdown",
      "metadata": {
        "id": "LITG6YlW4ti5",
        "colab_type": "text"
      },
      "source": [
        "### Returns\n",
        "\n",
        "Using the crossover indices, we calculate our returns using the lead-lag strategy by iterating through different combinations of lead and lag equities."
      ]
    },
    {
      "cell_type": "code",
      "metadata": {
        "id": "QWb2aq3yS0rb",
        "colab_type": "code",
        "colab": {}
      },
      "source": [
        "# use crossovers in lead stocks to trade lag stocks (go through all combos)\n",
        "def lead_lag_trade(frame, lead_index, num_lag_days, num_holding_days, lag_stock):\n",
        "  profit = frame[lag_stock][lead_index + num_lag_days + num_holding_days] - frame[lag_stock][lead_index + num_lag_days]\n",
        "  rtrn = profit/frame[lag_stock][lead_index]\n",
        "  return(rtrn)\n",
        "\n",
        "def calc_returns(num_lag_days, num_holding_days):\n",
        "  returns = []\n",
        "  for i in range(len(lead_list)):\n",
        "    for lag in lag_list:\n",
        "      rtrns = []\n",
        "      # for k in range(len(df2[lead_list[i]])):\n",
        "      #     if df2[\"crossover\" + str(i + 1)][k] == True:\n",
        "      xrows =  df2.index[df2['crossover' + str(i + 1)]].tolist()\n",
        "      xrows.pop(0)  # remove false crossover at beginning of list\n",
        "      for row in xrows:\n",
        "        try:\n",
        "          rtrns.append(lead_lag_trade(df2, row, num_lag_days, num_holding_days, lag))\n",
        "        except KeyError:\n",
        "          continue\n",
        "      returns.append(rtrns)\n",
        "  return(returns)\n",
        "\n",
        "# HOW DO I REFERENCE THE SPECIFIC CELL IF I WANNA USE THE COLUMN LABEL/NAME BUT ALSO ROW INDEX?\n",
        "# df.loc[row_num, df.columns.get_loc(col_name)]"
      ],
      "execution_count": 0,
      "outputs": []
    },
    {
      "cell_type": "code",
      "metadata": {
        "id": "HRVlMTOZurmQ",
        "colab_type": "code",
        "outputId": "d6bf2b47-6476-4bb1-8218-95fbecf3f54a",
        "colab": {
          "base_uri": "https://localhost:8080/",
          "height": 1000
        }
      },
      "source": [
        "returns = calc_returns(3, 5)\n",
        "returns"
      ],
      "execution_count": 0,
      "outputs": [
        {
          "output_type": "execute_result",
          "data": {
            "text/plain": [
              "[[0.03786539622316118,\n",
              "  0.033285973148834684,\n",
              "  -0.026800702151538357,\n",
              "  -0.004206537794618094,\n",
              "  -0.015380430030216819,\n",
              "  0.0065579713129949166,\n",
              "  0.009637909545902447,\n",
              "  0.09048892581725651,\n",
              "  0.08355814713105329,\n",
              "  0.09026817972406104,\n",
              "  0.06792644709861766,\n",
              "  -0.045375776480311346,\n",
              "  0.027483055210891904,\n",
              "  -0.0032245227589273915,\n",
              "  0.0444475741567007,\n",
              "  -0.02290615370874833,\n",
              "  -0.08781444174723156,\n",
              "  0.07275927610510827,\n",
              "  0.05766420645928264,\n",
              "  -0.03959866122652477,\n",
              "  0.049492332272861456,\n",
              "  -0.011902816920584423,\n",
              "  0.05594802342606153],\n",
              " [-0.005878389825500094,\n",
              "  0.061313377963125575,\n",
              "  0.013292926510090274,\n",
              "  0.041583783271762736,\n",
              "  0.013248288879435716,\n",
              "  -0.012856048440232425,\n",
              "  0.019500164485966233,\n",
              "  0.05944910295820672,\n",
              "  0.04979523842576524,\n",
              "  -0.011759676713762695,\n",
              "  0.10412032278745084,\n",
              "  0.012380116537366306,\n",
              "  0.00806486898469308,\n",
              "  0.012121829148493406,\n",
              "  0.018032466388522538,\n",
              "  -0.04622527311946263,\n",
              "  -0.0728500723640716,\n",
              "  -0.02360277875596243,\n",
              "  0.023317851215736134,\n",
              "  0.019691766549419096,\n",
              "  0.02216809008110026,\n",
              "  -0.012604617405763855,\n",
              "  0.06585204129961161],\n",
              " [0.05499479067474765,\n",
              "  0.053557255420716654,\n",
              "  -0.003289510240823299,\n",
              "  0.02413710659015816,\n",
              "  0.005328818207314864,\n",
              "  0.016893695261066547,\n",
              "  0.03724412168279948,\n",
              "  0.00915800718655924,\n",
              "  -0.0019887921340482942,\n",
              "  0.029327865024820564,\n",
              "  0.01608604809824322,\n",
              "  0.05443350268665451,\n",
              "  -0.009291462943360704,\n",
              "  0.09818833971669999,\n",
              "  0.023528282925203457,\n",
              "  0.017379025417386104,\n",
              "  0.028726697392859615,\n",
              "  0.02601275513996452,\n",
              "  0.012103985035927448,\n",
              "  -0.08781444174723156,\n",
              "  -0.018075833083497823,\n",
              "  -0.021527555852531875,\n",
              "  -0.10825961343907867,\n",
              "  0.07275927610510827,\n",
              "  -0.0034368573107433522,\n",
              "  0.020279463613748404,\n",
              "  0.049492332272861456,\n",
              "  -0.05797316263148874,\n",
              "  0.15121337150178535,\n",
              "  -0.05792141191641855,\n",
              "  0.05594802342606153,\n",
              "  -0.024133900885398456,\n",
              "  -0.0221092983863778,\n",
              "  0.10582682489186311,\n",
              "  0.021880237816640825],\n",
              " [0.06732464764611104,\n",
              "  0.04117207639395661,\n",
              "  0.06662134322208478,\n",
              "  -0.02280021026130494,\n",
              "  0.0035998906726509433,\n",
              "  0.025815997290407684,\n",
              "  -0.040362202569747686,\n",
              "  -0.010446920941182464,\n",
              "  -0.04740759842383495,\n",
              "  0.08026345802919717,\n",
              "  0.050663909080497754,\n",
              "  -0.004314308320680892,\n",
              "  -0.004281803212228357,\n",
              "  0.06325247905479445,\n",
              "  0.012792861075111683,\n",
              "  -0.00036955898772158803,\n",
              "  -0.022775210194506665,\n",
              "  -0.025360470744513405,\n",
              "  -0.0008836302234797574,\n",
              "  -0.0728500723640716,\n",
              "  0.004037511348606007,\n",
              "  -0.015722090896191056,\n",
              "  -0.07993162985227598,\n",
              "  -0.02360277875596243,\n",
              "  -0.001806965100849425,\n",
              "  0.02279589457822762,\n",
              "  0.02216809008110026,\n",
              "  -0.015793404041663447,\n",
              "  0.022779343576688944,\n",
              "  -0.04635002464795008,\n",
              "  0.06585204129961161,\n",
              "  -0.004554114336429694,\n",
              "  -0.024476882011460917,\n",
              "  0.06407060600526186,\n",
              "  -0.026133861630068523],\n",
              " [-0.003289510240823299,\n",
              "  -0.003248670998228004,\n",
              "  0.04958167157967762,\n",
              "  0.004595543300773479,\n",
              "  0.021799060148531935,\n",
              "  0.001216984540493294,\n",
              "  0.030764128282696382,\n",
              "  0.029875592241999028,\n",
              "  0.021305106477330794,\n",
              "  0.006915086940719653,\n",
              "  0.05443350268665451,\n",
              "  0.0874323163093104,\n",
              "  -0.02671236725290762,\n",
              "  -0.019459538082721266,\n",
              "  0.08546835322309526,\n",
              "  0.03542135547347522,\n",
              "  0.049984491685157346,\n",
              "  0.0809104218874908,\n",
              "  0.014193697466855339,\n",
              "  -0.03225647720135105,\n",
              "  -0.011933410042041091,\n",
              "  0.03147035237209776,\n",
              "  0.1539480013525936,\n",
              "  -0.055526433637319836,\n",
              "  0.12407889492830436,\n",
              "  -0.07051042015302997,\n",
              "  -0.011349150445822584,\n",
              "  0.06286805957889954,\n",
              "  0.003802005237368954,\n",
              "  0.035170456342304215,\n",
              "  0.013284247049528823,\n",
              "  0.08803029357301863,\n",
              "  -0.009027407466236963,\n",
              "  0.03565170631422223],\n",
              " [0.06662134322208478,\n",
              "  -0.013983178433065091,\n",
              "  -0.04772928859832669,\n",
              "  0.020863410683474685,\n",
              "  0.05980355455728466,\n",
              "  0.021506667467162975,\n",
              "  0.07455786719996055,\n",
              "  0.009174700069505394,\n",
              "  0.08417858047927204,\n",
              "  0.044164652899824255,\n",
              "  -0.004314308320680892,\n",
              "  0.022538732430517672,\n",
              "  -0.023624762890153556,\n",
              "  0.03579665865402621,\n",
              "  0.0437530512343481,\n",
              "  0.07673576431381324,\n",
              "  0.037483246080633754,\n",
              "  0.005031238933023088,\n",
              "  0.02040902721626961,\n",
              "  0.025515045254650523,\n",
              "  0.07849825817474469,\n",
              "  0.04270970037101731,\n",
              "  -0.005535967060919865,\n",
              "  -0.03502941633400209,\n",
              "  0.07299464020239439,\n",
              "  0.04819043521823194,\n",
              "  -0.06437350960611903,\n",
              "  -0.11116233677759918,\n",
              "  0.00656541857665457,\n",
              "  0.08688755555844778,\n",
              "  0.03327175231010638,\n",
              "  0.1258877482526673,\n",
              "  -0.00614100389960477,\n",
              "  0.01632226657475542]]"
            ]
          },
          "metadata": {
            "tags": []
          },
          "execution_count": 166
        }
      ]
    },
    {
      "cell_type": "code",
      "metadata": {
        "id": "vZqVAfKQx-nL",
        "colab_type": "code",
        "outputId": "fad8c284-75f1-4f56-f03c-156ff3ff94d6",
        "colab": {
          "base_uri": "https://localhost:8080/",
          "height": 36
        }
      },
      "source": [
        "len(returns)"
      ],
      "execution_count": 0,
      "outputs": [
        {
          "output_type": "execute_result",
          "data": {
            "text/plain": [
              "6"
            ]
          },
          "metadata": {
            "tags": []
          },
          "execution_count": 155
        }
      ]
    },
    {
      "cell_type": "markdown",
      "metadata": {
        "id": "HAUFcyOj5PZU",
        "colab_type": "text"
      },
      "source": [
        "## Sharpe Ratio\n",
        "\n",
        "Calculate the Sharpe ratio for every combination of lead and lag equities, for lag and holding values 1-20. This will result in 2400 Sharpe ratios.\n",
        "\n",
        "From there, find the max and the corresponding amount of lag/hold days, and graph the result as a series of heatmaps."
      ]
    },
    {
      "cell_type": "code",
      "metadata": {
        "id": "4DH9yCsWaNbA",
        "colab_type": "code",
        "outputId": "2c80594f-55f3-4781-d468-f006c785ce6c",
        "colab": {
          "base_uri": "https://localhost:8080/",
          "height": 262
        }
      },
      "source": [
        "rfr = 0.02\n",
        "def calc_sharpe(returns_lists):\n",
        "    sharpes = []\n",
        "    for returns_list in returns_lists:\n",
        "      mean = np.mean(returns_list)\n",
        "      # print(\"The mean is \" + str(mean))\n",
        "      std_deviation = np.std(returns_list)\n",
        "      # print(\"The standard deviation is \" + str(std_deviation))\n",
        "\n",
        "      sharpes.append((mean*(252/10) - rfr)/(std_deviation*((252/10)**0.5)))\n",
        "    return(sharpes)\n",
        "\n",
        "sharpes = [] \n",
        "for lag in range(1, 21):\n",
        "  for hold in range(1, 21):\n",
        "    sharpes.append(calc_sharpe(calc_returns(lag, hold)))\n",
        "\n",
        "sharpes = np.array(sharpes)\n",
        "sharpes  # example of what it looks like"
      ],
      "execution_count": 250,
      "outputs": [
        {
          "output_type": "execute_result",
          "data": {
            "text/plain": [
              "array([[-0.64197125, -0.50184809,  1.04896381,  1.77315272,  1.76878358,\n",
              "         1.0842927 ],\n",
              "       [ 0.96618782,  1.57790272,  0.85005015,  1.39887149,  1.4487278 ,\n",
              "         2.173237  ],\n",
              "       [ 0.97097772,  2.61423561,  2.23248337,  1.50115096,  1.56087011,\n",
              "         2.17687882],\n",
              "       ...,\n",
              "       [-0.35930187,  1.73573012,  2.46962777,  1.80734649,  1.7797733 ,\n",
              "         1.66690449],\n",
              "       [-0.32897954,  1.91553779,  2.31892073,  1.74576447,  1.42863211,\n",
              "         1.38535715],\n",
              "       [-0.21359356,  2.54011163,  1.34818463,  1.80343596,  1.59686037,\n",
              "         1.27075093]])"
            ]
          },
          "metadata": {
            "tags": []
          },
          "execution_count": 250
        }
      ]
    },
    {
      "cell_type": "code",
      "metadata": {
        "id": "XYsLxJhbz0iE",
        "colab_type": "code",
        "outputId": "f8148d46-91da-4245-9669-ce948017ba32",
        "colab": {
          "base_uri": "https://localhost:8080/",
          "height": 36
        }
      },
      "source": [
        "sharpes.shape"
      ],
      "execution_count": 251,
      "outputs": [
        {
          "output_type": "execute_result",
          "data": {
            "text/plain": [
              "(400, 6)"
            ]
          },
          "metadata": {
            "tags": []
          },
          "execution_count": 251
        }
      ]
    },
    {
      "cell_type": "code",
      "metadata": {
        "id": "ks4dKGLnCMMw",
        "colab_type": "code",
        "outputId": "55c9758b-d127-4ef1-b994-83c8e04f2881",
        "colab": {
          "base_uri": "https://localhost:8080/",
          "height": 36
        }
      },
      "source": [
        "np.amax(sharpes)"
      ],
      "execution_count": 252,
      "outputs": [
        {
          "output_type": "execute_result",
          "data": {
            "text/plain": [
              "4.557003818917399"
            ]
          },
          "metadata": {
            "tags": []
          },
          "execution_count": 252
        }
      ]
    },
    {
      "cell_type": "code",
      "metadata": {
        "id": "uZMy_3cMArQm",
        "colab_type": "code",
        "outputId": "d314ae87-a98f-404d-f34f-4bd3fa695c86",
        "colab": {
          "base_uri": "https://localhost:8080/",
          "height": 36
        }
      },
      "source": [
        "np.where(sharpes==np.amax(sharpes))"
      ],
      "execution_count": 253,
      "outputs": [
        {
          "output_type": "execute_result",
          "data": {
            "text/plain": [
              "(array([4]), array([1]))"
            ]
          },
          "metadata": {
            "tags": []
          },
          "execution_count": 253
        }
      ]
    },
    {
      "cell_type": "markdown",
      "metadata": {
        "id": "7iGLP0YJCPS0",
        "colab_type": "text"
      },
      "source": [
        "From that result, we conclude that the maximum Sharpe ratio of 4.557 is found with lag = 1 and hold = 5."
      ]
    },
    {
      "cell_type": "code",
      "metadata": {
        "id": "VG618GGLD7s-",
        "colab_type": "code",
        "colab": {}
      },
      "source": [
        "mod_sharpes = []\n",
        "\n",
        "for i in range(6):\n",
        "  sharpec = [j[i] for j in sharpes]\n",
        "  mod = np.reshape(sharpec, (-1, 20))\n",
        "  mod_sharpes.append(mod)"
      ],
      "execution_count": 0,
      "outputs": []
    },
    {
      "cell_type": "code",
      "metadata": {
        "id": "WVVLxw-gCizb",
        "colab_type": "code",
        "colab": {
          "base_uri": "https://localhost:8080/",
          "height": 901
        },
        "outputId": "b9eaab79-496f-4747-f105-615a3778d2f5"
      },
      "source": [
        "import seaborn as sns\n",
        "sns.set()\n",
        "\n",
        "# Draw a heatmap with the numeric values in each cell\n",
        "f, ax = plt.subplots(figsize=(15, 15))\n",
        "ax.set_ylim(12, 10)\n",
        "\n",
        "plt.title('Sharpe vs Number of Previous Days and Number of Holding Days In Sample')\n",
        "\n",
        "sns.heatmap(data=mod_sharpes[1], annot=True, ax=ax, xticklabels=range(1, 21), yticklabels=range(1, 21))"
      ],
      "execution_count": 313,
      "outputs": [
        {
          "output_type": "execute_result",
          "data": {
            "text/plain": [
              "<matplotlib.axes._subplots.AxesSubplot at 0x7f74f9239dd8>"
            ]
          },
          "metadata": {
            "tags": []
          },
          "execution_count": 313
        },
        {
          "output_type": "display_data",
          "data": {
            "image/png": "[encoded data removed]",
            "text/plain": [
              "<Figure size 1080x1080 with 2 Axes>"
            ]
          },
          "metadata": {
            "tags": []
          }
        }
      ]
    },
    {
      "cell_type": "markdown",
      "metadata": {
        "id": "fjlFsQbLPH1o",
        "colab_type": "text"
      },
      "source": [
        "## Cumulative Returns"
      ]
    },
    {
      "cell_type": "code",
      "metadata": {
        "id": "wR7TTaq2bjB0",
        "colab_type": "code",
        "colab": {}
      },
      "source": [
        "def calc_cum_rtrns(previous_days, holding_days, df):\n",
        "    pre_holiday_prices = []\n",
        "    returns = []\n",
        "    holiday_returns = []\n",
        "    cum_rtrns = []\n",
        "    for i in range(int(len(df)/2)):\n",
        "        for j in range(len(holidays)):\n",
        "            if dates[len(df) - i - 1] == holidays[j]:\n",
        "                holiday_price = df.iloc[len(df) - i - holding_days - 1, 2]\n",
        "                pre_holiday_price = df.iloc[len(df) - i + previous_days - 1, 2]\n",
        "                profit = holiday_price - pre_holiday_price\n",
        "                rtrn = (profit/pre_holiday_price)\n",
        "                returns.append(rtrn)\n",
        "                if cum_rtrns == []:\n",
        "                    cum_rtrns.append(1 + rtrn)\n",
        "                else:\n",
        "                    cum_rtrns.append((1 + rtrn) * cum_rtrns[len(cum_rtrns) - 1])\n",
        "                holiday_returns.append([dates[i], cum_rtrns[len(cum_rtrns) - 1]])\n",
        "                \n",
        "    return(cum_rtrns)"
      ],
      "execution_count": 0,
      "outputs": []
    },
    {
      "cell_type": "code",
      "metadata": {
        "id": "6tgWxIZDbzsz",
        "colab_type": "code",
        "colab": {
          "base_uri": "https://localhost:8080/",
          "height": 309
        },
        "outputId": "49b13d11-39e8-45ec-b805-b2d327aef3a9"
      },
      "source": [
        "calc_cum_rtrns(1, 4, df1)"
      ],
      "execution_count": 316,
      "outputs": [
        {
          "output_type": "error",
          "ename": "NameError",
          "evalue": "ignored",
          "traceback": [
            "\u001b[0;31m---------------------------------------------------------------------------\u001b[0m",
            "\u001b[0;31mNameError\u001b[0m                                 Traceback (most recent call last)",
            "\u001b[0;32m<ipython-input-316-d8f3359a33bb>\u001b[0m in \u001b[0;36m<module>\u001b[0;34m()\u001b[0m\n\u001b[0;32m----> 1\u001b[0;31m \u001b[0mcalc_cum_rtrns\u001b[0m\u001b[0;34m(\u001b[0m\u001b[0;36m1\u001b[0m\u001b[0;34m,\u001b[0m \u001b[0;36m4\u001b[0m\u001b[0;34m,\u001b[0m \u001b[0mdf1\u001b[0m\u001b[0;34m)\u001b[0m\u001b[0;34m\u001b[0m\u001b[0;34m\u001b[0m\u001b[0m\n\u001b[0m",
            "\u001b[0;32m<ipython-input-315-1a531fe9b07f>\u001b[0m in \u001b[0;36mcalc_cum_rtrns\u001b[0;34m(previous_days, holding_days, df)\u001b[0m\n\u001b[1;32m      5\u001b[0m     \u001b[0mcum_rtrns\u001b[0m \u001b[0;34m=\u001b[0m \u001b[0;34m[\u001b[0m\u001b[0;34m]\u001b[0m\u001b[0;34m\u001b[0m\u001b[0;34m\u001b[0m\u001b[0m\n\u001b[1;32m      6\u001b[0m     \u001b[0;32mfor\u001b[0m \u001b[0mi\u001b[0m \u001b[0;32min\u001b[0m \u001b[0mrange\u001b[0m\u001b[0;34m(\u001b[0m\u001b[0mint\u001b[0m\u001b[0;34m(\u001b[0m\u001b[0mlen\u001b[0m\u001b[0;34m(\u001b[0m\u001b[0mdf\u001b[0m\u001b[0;34m)\u001b[0m\u001b[0;34m/\u001b[0m\u001b[0;36m2\u001b[0m\u001b[0;34m)\u001b[0m\u001b[0;34m)\u001b[0m\u001b[0;34m:\u001b[0m\u001b[0;34m\u001b[0m\u001b[0;34m\u001b[0m\u001b[0m\n\u001b[0;32m----> 7\u001b[0;31m         \u001b[0;32mfor\u001b[0m \u001b[0mj\u001b[0m \u001b[0;32min\u001b[0m \u001b[0mrange\u001b[0m\u001b[0;34m(\u001b[0m\u001b[0mlen\u001b[0m\u001b[0;34m(\u001b[0m\u001b[0mholidays\u001b[0m\u001b[0;34m)\u001b[0m\u001b[0;34m)\u001b[0m\u001b[0;34m:\u001b[0m\u001b[0;34m\u001b[0m\u001b[0;34m\u001b[0m\u001b[0m\n\u001b[0m\u001b[1;32m      8\u001b[0m             \u001b[0;32mif\u001b[0m \u001b[0mdates\u001b[0m\u001b[0;34m[\u001b[0m\u001b[0mlen\u001b[0m\u001b[0;34m(\u001b[0m\u001b[0mdf\u001b[0m\u001b[0;34m)\u001b[0m \u001b[0;34m-\u001b[0m \u001b[0mi\u001b[0m \u001b[0;34m-\u001b[0m \u001b[0;36m1\u001b[0m\u001b[0;34m]\u001b[0m \u001b[0;34m==\u001b[0m \u001b[0mholidays\u001b[0m\u001b[0;34m[\u001b[0m\u001b[0mj\u001b[0m\u001b[0;34m]\u001b[0m\u001b[0;34m:\u001b[0m\u001b[0;34m\u001b[0m\u001b[0;34m\u001b[0m\u001b[0m\n\u001b[1;32m      9\u001b[0m                 \u001b[0mholiday_price\u001b[0m \u001b[0;34m=\u001b[0m \u001b[0mdf\u001b[0m\u001b[0;34m.\u001b[0m\u001b[0miloc\u001b[0m\u001b[0;34m[\u001b[0m\u001b[0mlen\u001b[0m\u001b[0;34m(\u001b[0m\u001b[0mdf\u001b[0m\u001b[0;34m)\u001b[0m \u001b[0;34m-\u001b[0m \u001b[0mi\u001b[0m \u001b[0;34m-\u001b[0m \u001b[0mholding_days\u001b[0m \u001b[0;34m-\u001b[0m \u001b[0;36m1\u001b[0m\u001b[0;34m,\u001b[0m \u001b[0;36m2\u001b[0m\u001b[0;34m]\u001b[0m\u001b[0;34m\u001b[0m\u001b[0;34m\u001b[0m\u001b[0m\n",
            "\u001b[0;31mNameError\u001b[0m: name 'holidays' is not defined"
          ]
        }
      ]
    }
  ]
}